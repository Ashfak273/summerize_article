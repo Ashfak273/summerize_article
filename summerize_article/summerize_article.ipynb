{
  "nbformat": 4,
  "nbformat_minor": 0,
  "metadata": {
    "colab": {
      "provenance": []
    },
    "kernelspec": {
      "name": "python3",
      "display_name": "Python 3"
    },
    "language_info": {
      "name": "python"
    }
  },
  "cells": [
    {
      "cell_type": "code",
      "execution_count": 14,
      "metadata": {
        "id": "JWScLV8JMZKp"
      },
      "outputs": [],
      "source": [
        "import nltk\n",
        "from nltk.corpus import stopwords\n",
        "from nltk.cluster.util import cosine_distance\n",
        "import numpy as np\n",
        "import networkx as nx"
      ]
    },
    {
      "cell_type": "code",
      "source": [
        "#Function1/////////////////////////////////////////////////////////////\n",
        "def read_article(file_name):\n",
        "    file = open(file_name, \"r\")\n",
        "    filedata = file.readlines()\n",
        "    article = filedata[0].split(\". \")\n",
        "    #list\n",
        "    sentences = []\n",
        "\n",
        "    print(\"All the Sentences are below :\\n==================================================================\")\n",
        "    for sentence in article:\n",
        "        print(sentence)\n",
        "        sentences.append(sentence.replace(\"[^a-zA-Z]\", \" \").split(\" \"))\n",
        "    sentences.pop()\n",
        "    print(\"\\n================================================================================\\n\")\n",
        "\n",
        "    return sentences\n",
        "\n",
        "\n",
        "\n",
        "#Function2////////////////////////////////////////////////////////////////\n",
        "def sentence_similarity(sent1, sent2, stopwords=None):\n",
        "    if stopwords is None:\n",
        "        stopwords = []\n",
        "\n",
        "    sent1 = [w.lower() for w in sent1]\n",
        "    sent2 = [w.lower() for w in sent2]\n",
        "\n",
        "    all_words = list(set(sent1 + sent2))\n",
        "\n",
        "    vector1 = [0] * len(all_words)\n",
        "    vector2 = [0] * len(all_words)\n",
        "\n",
        "    # build the vector for the first sentence\n",
        "    for w in sent1:\n",
        "        if w in stopwords:\n",
        "            continue\n",
        "        vector1[all_words.index(w)] += 1\n",
        "\n",
        "    # build the vector for the second sentence\n",
        "    for w in sent2:\n",
        "        if w in stopwords:\n",
        "            continue\n",
        "        vector2[all_words.index(w)] += 1\n",
        "\n",
        "    return 1 - cosine_distance(vector1, vector2)\n",
        "\n",
        "\n",
        "\n",
        "#Function3////////////////////////////////////////////////////////////////\n",
        "def build_similarity_matrix(sentences, stop_words):\n",
        "    # Create an empty similarity matrix\n",
        "    similarity_matrix = np.zeros((len(sentences), len(sentences)))\n",
        "\n",
        "    for idx1 in range(len(sentences)):\n",
        "        for idx2 in range(len(sentences)):\n",
        "            if idx1 == idx2: #ignore if both are same sentences\n",
        "                continue\n",
        "            similarity_matrix[idx1][idx2] = sentence_similarity(sentences[idx1], sentences[idx2], stop_words)\n",
        "\n",
        "    return similarity_matrix"
      ],
      "metadata": {
        "id": "sjAqcNqAnwWu"
      },
      "execution_count": 15,
      "outputs": []
    },
    {
      "cell_type": "code",
      "source": [
        "def generate_summary(file_name, top_n=5):\n",
        "    nltk.download(\"stopwords\")\n",
        "    stop_words = stopwords.words('english')\n",
        "\n",
        "    summarize_text = []\n",
        "\n",
        "    # Step 1- Function(1) - Read text anc split it\n",
        "    sentences =  read_article(file_name)\n",
        "\n",
        "    # Step 2 - Function(3) Generate Similary Martix across sentences\n",
        "    sentence_similarity_martix = build_similarity_matrix(sentences, stop_words)\n",
        "\n",
        "#/////////////////////////////////////////////////////////////////////////////////// above functions r over\n",
        "\n",
        "\n",
        "    # Step 3 - Rank sentences in similarity martix\n",
        "    sentence_similarity_graph = nx.from_numpy_array(sentence_similarity_martix)\n",
        "    scores = nx.pagerank(sentence_similarity_graph)\n",
        "\n",
        "\n",
        "    # Step 4 - Sort the rank and pick top sentences\n",
        "    ranked_sentence = sorted(((scores[i],s) for i,s in enumerate(sentences)), reverse=True)\n",
        "    print(\"Indexes of top ranked_sentence order are \", ranked_sentence)\n",
        "\n",
        "    for i in range(top_n):\n",
        "      summarize_text.append(\" \".join(ranked_sentence[i][1]))\n",
        "\n",
        "    # Step 5 - Offcourse, output the summarize text\n",
        "    print(\"\\n\\nSummarize Text: \\n\", \". \".join(summarize_text))"
      ],
      "metadata": {
        "id": "jz1DknxDnnDc"
      },
      "execution_count": 18,
      "outputs": []
    },
    {
      "cell_type": "markdown",
      "source": [],
      "metadata": {
        "id": "qHA0XKRZB98f"
      }
    },
    {
      "cell_type": "markdown",
      "source": [],
      "metadata": {
        "id": "8c1jxVCXB-AB"
      }
    },
    {
      "cell_type": "code",
      "source": [
        "#n- is the content length u want\n",
        "generate_summary( \"Sigirya.txt\", 4)"
      ],
      "metadata": {
        "colab": {
          "base_uri": "https://localhost:8080/"
        },
        "id": "PtrN7-xfl8d8",
        "outputId": "1de3a48b-a641-4b22-bfd7-de63f94e2805"
      },
      "execution_count": 22,
      "outputs": [
        {
          "output_type": "stream",
          "name": "stdout",
          "text": [
            "All the Sentences are below :\n",
            "==================================================================\n",
            "Nestled in the heart of Sri Lanka, Sigiriya stands as a testament to the island's rich history and architectural ingenuity\n",
            "Recognized as a UNESCO World Heritage site and often dubbed the \"Eighth Wonder of the World,\" Sigiriya is a remarkable blend of ancient urban planning, artistic expression, and natural splendor\n",
            "Dating back to the 5th century, the site served as both the palace and fortress of King Kasyapa, who chose the towering rock column as the strategic location for his royal residence.Ascending Sigiriya is a journey through an architectural marvel\n",
            "Visitors pass through the iconic Lion's Gate, adorned with lion paws, and ascend a series of staircases and terraces showcasing the advanced hydraulic systems employed by ancient builders\n",
            "At the summit, the remnants of the palace complex offer panoramic views of the surrounding landscape, providing a glimpse into the strategic vision of King Kasyapa.The rock is adorned with ancient frescoes, including the famous 'Sigiriya Maidens.' These paintings, showcasing celestial nymphs, provide a window into the artistic prowess of the ancient Sinhalese\n",
            "Surrounding the rock are the remains of royal gardens, complete with water features and terraced landscapes, revealing the sophisticated urban planning of the time.Sigiriya's cultural and historical significance has made it a symbol of Sri Lanka's ancient civilization\n",
            "A popular destination for tourists and archaeologists alike, Sigiriya's preservation has been a priority, with collaborative efforts between the Sri Lankan government and international organizations\n",
            "Its inclusion on the UNESCO World Heritage List underscores its importance in preserving and sharing the island's cultural heritage.In conclusion, Sigiriya stands as a jewel in Sri Lanka's historical crown\n",
            "As visitors ascend this ancient rock fortress, they not only climb a geological formation but also traverse through time, unraveling the stories and mysteries of an ancient civilization etched into the very heart of Sri Lanka.\n",
            "\n",
            "================================================================================\n",
            "\n",
            "Indexes of top ranked_sentence order are  [(0.17356225969368183, ['Its', 'inclusion', 'on', 'the', 'UNESCO', 'World', 'Heritage', 'List', 'underscores', 'its', 'importance', 'in', 'preserving', 'and', 'sharing', 'the', \"island's\", 'cultural', 'heritage.In', 'conclusion,', 'Sigiriya', 'stands', 'as', 'a', 'jewel', 'in', 'Sri', \"Lanka's\", 'historical', 'crown']), (0.15703555386211332, ['Surrounding', 'the', 'rock', 'are', 'the', 'remains', 'of', 'royal', 'gardens,', 'complete', 'with', 'water', 'features', 'and', 'terraced', 'landscapes,', 'revealing', 'the', 'sophisticated', 'urban', 'planning', 'of', 'the', \"time.Sigiriya's\", 'cultural', 'and', 'historical', 'significance', 'has', 'made', 'it', 'a', 'symbol', 'of', 'Sri', \"Lanka's\", 'ancient', 'civilization']), (0.1458052226332548, ['Recognized', 'as', 'a', 'UNESCO', 'World', 'Heritage', 'site', 'and', 'often', 'dubbed', 'the', '\"Eighth', 'Wonder', 'of', 'the', 'World,\"', 'Sigiriya', 'is', 'a', 'remarkable', 'blend', 'of', 'ancient', 'urban', 'planning,', 'artistic', 'expression,', 'and', 'natural', 'splendor']), (0.1393307496019373, ['Nestled', 'in', 'the', 'heart', 'of', 'Sri', 'Lanka,', 'Sigiriya', 'stands', 'as', 'a', 'testament', 'to', 'the', \"island's\", 'rich', 'history', 'and', 'architectural', 'ingenuity']), (0.13637954524663945, ['At', 'the', 'summit,', 'the', 'remnants', 'of', 'the', 'palace', 'complex', 'offer', 'panoramic', 'views', 'of', 'the', 'surrounding', 'landscape,', 'providing', 'a', 'glimpse', 'into', 'the', 'strategic', 'vision', 'of', 'King', 'Kasyapa.The', 'rock', 'is', 'adorned', 'with', 'ancient', 'frescoes,', 'including', 'the', 'famous', \"'Sigiriya\", \"Maidens.'\", 'These', 'paintings,', 'showcasing', 'celestial', 'nymphs,', 'provide', 'a', 'window', 'into', 'the', 'artistic', 'prowess', 'of', 'the', 'ancient', 'Sinhalese']), (0.12054641937255425, ['Dating', 'back', 'to', 'the', '5th', 'century,', 'the', 'site', 'served', 'as', 'both', 'the', 'palace', 'and', 'fortress', 'of', 'King', 'Kasyapa,', 'who', 'chose', 'the', 'towering', 'rock', 'column', 'as', 'the', 'strategic', 'location', 'for', 'his', 'royal', 'residence.Ascending', 'Sigiriya', 'is', 'a', 'journey', 'through', 'an', 'architectural', 'marvel']), (0.07123571439631823, ['Visitors', 'pass', 'through', 'the', 'iconic', \"Lion's\", 'Gate,', 'adorned', 'with', 'lion', 'paws,', 'and', 'ascend', 'a', 'series', 'of', 'staircases', 'and', 'terraces', 'showcasing', 'the', 'advanced', 'hydraulic', 'systems', 'employed', 'by', 'ancient', 'builders']), (0.056104535193500726, ['A', 'popular', 'destination', 'for', 'tourists', 'and', 'archaeologists', 'alike,', \"Sigiriya's\", 'preservation', 'has', 'been', 'a', 'priority,', 'with', 'collaborative', 'efforts', 'between', 'the', 'Sri', 'Lankan', 'government', 'and', 'international', 'organizations'])]\n",
            "\n",
            "\n",
            "Summarize Text: \n",
            " Its inclusion on the UNESCO World Heritage List underscores its importance in preserving and sharing the island's cultural heritage.In conclusion, Sigiriya stands as a jewel in Sri Lanka's historical crown. Surrounding the rock are the remains of royal gardens, complete with water features and terraced landscapes, revealing the sophisticated urban planning of the time.Sigiriya's cultural and historical significance has made it a symbol of Sri Lanka's ancient civilization. Recognized as a UNESCO World Heritage site and often dubbed the \"Eighth Wonder of the World,\" Sigiriya is a remarkable blend of ancient urban planning, artistic expression, and natural splendor. Nestled in the heart of Sri Lanka, Sigiriya stands as a testament to the island's rich history and architectural ingenuity\n"
          ]
        },
        {
          "output_type": "stream",
          "name": "stderr",
          "text": [
            "[nltk_data] Downloading package stopwords to /root/nltk_data...\n",
            "[nltk_data]   Package stopwords is already up-to-date!\n"
          ]
        }
      ]
    }
  ]
}